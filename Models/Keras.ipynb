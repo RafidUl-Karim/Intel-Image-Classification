{
 "cells": [
  {
   "cell_type": "code",
   "execution_count": null,
   "id": "706b86a1-00b4-4ac6-98e6-23707c1bb97a",
   "metadata": {},
   "outputs": [],
   "source": [
    "!pip install Keras-Applications\n",
    "!pip install tensorflow"
   ]
  },
  {
   "cell_type": "code",
   "execution_count": 1,
   "id": "f8b06963-04c4-40e7-b7e1-d29e7ff0185f",
   "metadata": {},
   "outputs": [],
   "source": [
    "import pandas as pd\n",
    "import numpy as np\n",
    "import matplotlib.pyplot as plt\n",
    "import matplotlib.image as mpimg\n",
    "import seaborn as sn; sn.set(font_scale = 1.4)\n",
    "\n",
    "import tensorflow as tf                \n",
    "from sklearn.utils import shuffle \n",
    "from sklearn.metrics import confusion_matrix\n",
    "from tqdm import tqdm\n",
    "\n",
    "import os\n",
    "import cv2"
   ]
  },
  {
   "cell_type": "code",
   "execution_count": 2,
   "id": "bc03c99c-1ea2-49a7-b638-29754a680447",
   "metadata": {},
   "outputs": [
    {
     "name": "stdout",
     "output_type": "stream",
     "text": [
      "Python version: 3.12.7 | packaged by Anaconda, Inc. | (main, Oct  4 2024, 13:17:27) [MSC v.1929 64 bit (AMD64)]\n",
      "NumPy version: 1.26.4\n",
      "TensorFlow version: 2.18.0\n",
      "Keras version: 3.6.0\n"
     ]
    },
    {
     "ename": "AttributeError",
     "evalue": "module 'tensorflow.python.platform.build_info' has no attribute 'cuda_version'",
     "output_type": "error",
     "traceback": [
      "\u001b[1;31m---------------------------------------------------------------------------\u001b[0m",
      "\u001b[1;31mAttributeError\u001b[0m                            Traceback (most recent call last)",
      "Cell \u001b[1;32mIn[2], line 11\u001b[0m\n\u001b[0;32m      9\u001b[0m \u001b[38;5;28mprint\u001b[39m(\u001b[38;5;124m\"\u001b[39m\u001b[38;5;124mTensorFlow version:\u001b[39m\u001b[38;5;124m\"\u001b[39m, tf\u001b[38;5;241m.\u001b[39m__version__)\n\u001b[0;32m     10\u001b[0m \u001b[38;5;28mprint\u001b[39m(\u001b[38;5;124m\"\u001b[39m\u001b[38;5;124mKeras version:\u001b[39m\u001b[38;5;124m\"\u001b[39m, tf\u001b[38;5;241m.\u001b[39mkeras\u001b[38;5;241m.\u001b[39m__version__)\n\u001b[1;32m---> 11\u001b[0m \u001b[38;5;28mprint\u001b[39m(\u001b[38;5;124m\"\u001b[39m\u001b[38;5;124mCUDA version:\u001b[39m\u001b[38;5;124m\"\u001b[39m, build_info\u001b[38;5;241m.\u001b[39mcuda_version)\n\u001b[0;32m     12\u001b[0m \u001b[38;5;28mprint\u001b[39m(\u001b[38;5;124m\"\u001b[39m\u001b[38;5;124mcuDNN version:\u001b[39m\u001b[38;5;124m\"\u001b[39m, build_info\u001b[38;5;241m.\u001b[39mcudnn_version)\n",
      "\u001b[1;31mAttributeError\u001b[0m: module 'tensorflow.python.platform.build_info' has no attribute 'cuda_version'"
     ]
    }
   ],
   "source": [
    "import sys\n",
    "import tensorflow as tf\n",
    "from tensorflow.python.platform import build_info\n",
    "import numpy as np\n",
    "\n",
    "\n",
    "print(\"Python version:\", sys.version)\n",
    "print(\"NumPy version:\", np.__version__)\n",
    "print(\"TensorFlow version:\", tf.__version__)\n",
    "print(\"Keras version:\", tf.keras.__version__)\n",
    "print(\"CUDA version:\", build_info.cuda_version)\n",
    "print(\"cuDNN version:\", build_info.cudnn_version)\n"
   ]
  },
  {
   "cell_type": "code",
   "execution_count": 6,
   "id": "4f84c0df-7d29-4f5d-8770-d7f5223f7e5e",
   "metadata": {},
   "outputs": [
    {
     "name": "stdout",
     "output_type": "stream",
     "text": [
      "Num GPUs Available:  0\n",
      "[name: \"/device:CPU:0\"\n",
      "device_type: \"CPU\"\n",
      "memory_limit: 268435456\n",
      "locality {\n",
      "}\n",
      "incarnation: 10224368625669993791\n",
      "xla_global_id: -1\n",
      "]\n",
      "TensorFlow version: 2.18.0\n"
     ]
    }
   ],
   "source": [
    "import tensorflow as tf\n",
    "print(\"Num GPUs Available: \", len(tf.config.experimental.list_physical_devices('GPU')))\n",
    "from tensorflow.python.client import device_lib\n",
    "print(device_lib.list_local_devices())\n",
    "print(\"TensorFlow version:\", tf.__version__)\n"
   ]
  },
  {
   "cell_type": "code",
   "execution_count": null,
   "id": "cc020264-bdea-4a0a-a1b1-b0d37a0296d7",
   "metadata": {},
   "outputs": [],
   "source": [
    "physical_devices = tf.config.list_physical_devices('GPU')\n",
    "tf.config.set_visible_devices(physical_devices[0], 'GPU')"
   ]
  },
  {
   "cell_type": "code",
   "execution_count": null,
   "id": "f4e63246-1778-49fb-be2e-c08a458977b6",
   "metadata": {},
   "outputs": [],
   "source": [
    "EPOCHS = 50\n",
    "BS = 64\n",
    "DROPOUT_RATE = 0.25\n",
    "FROZEN_LAYER_NUM = 170\n",
    "\n",
    "ADAM_LEARNING_RATE = 0.001\n",
    "SGD_LEARNING_RATE = 0.01\n",
    "SGD_DECAY = 0.0001\n",
    "\n",
    "Resize_pixelsize = 197"
   ]
  },
  {
   "cell_type": "code",
   "execution_count": null,
   "id": "5cb4e156-30f2-4b9a-bab2-46de14cc5edf",
   "metadata": {},
   "outputs": [],
   "source": [
    "classes = ['buildings', 'forest', 'glacier', 'mountain', 'sea', 'street']\n",
    "class_label = {classes: i for i, classes in enumerate(classes)}\n",
    "\n",
    "no_of_classes = len(classes)\n",
    "\n",
    "IMAGE_SIZE = (150, 150)\n",
    "\n",
    "print(\"No. of classes: \", no_of_classes)"
   ]
  },
  {
   "cell_type": "code",
   "execution_count": null,
   "id": "52a92396-ba8c-467e-8cd0-e3ae5f85fc98",
   "metadata": {},
   "outputs": [],
   "source": [
    "base_dir = r'C:\\Users\\rafid\\OneDrive\\Desktop\\VSCode\\Python\\Image Classification\\Datasets\\Intel Image Classification\\seg_train\\seg_train'\n",
    "\n",
    "rows = 6\n",
    "cols = 4\n",
    "pic_index = 0\n",
    "\n",
    "fig = plt.gcf()\n",
    "fig.set_size_inches(cols * 4, rows * 6)\n",
    "\n",
    "valid_extensions = ('.jpg', '.jpeg', '.png', '.bmp')\n",
    "\n",
    "all_images = []\n",
    "for class_name in classes:\n",
    "    class_path = os.path.join(base_dir, class_name)\n",
    "    image_paths = [os.path.join(class_path, fname) for fname in os.listdir(class_path)\n",
    "                   if fname.lower().endswith(valid_extensions)][pic_index:pic_index + 4]\n",
    "   \n",
    "    all_images.extend(image_paths)\n",
    "                       \n",
    "\n",
    "for i, img_path in enumerate(all_images):\n",
    "  sp = plt.subplot(rows, cols, i + 1)\n",
    "  sp.axis('Off')\n",
    "  img = mpimg.imread(img_path)\n",
    "  plt.imshow(img)\n",
    "\n",
    "  if i % 4 == 0:\n",
    "      sp.title.set_text(classes[i // 4])\n",
    "\n",
    "  \n",
    "plt.show()"
   ]
  },
  {
   "cell_type": "code",
   "execution_count": null,
   "id": "db5a3adf-0a47-4ea1-a3e0-73830dee9314",
   "metadata": {},
   "outputs": [],
   "source": [
    "from tensorflow.keras.preprocessing.image import ImageDataGenerator\n",
    "\n",
    "train_datagen = ImageDataGenerator(\n",
    "    rescale = 1./255,\n",
    "    horizontal_flip = True,\n",
    "    shear_range = 0.2,\n",
    "    zoom_range = 0.2,\n",
    "    validation_split = 0.1)\n",
    "\n",
    "train_generator = train_datagen.flow_from_directory(\n",
    "    'C:/Users/rafid/OneDrive/Desktop/VSCode/Python/Image Classification/Datasets/Intel Image Classification/seg_train/seg_train/',\n",
    "    subset = 'training',\n",
    "    target_size = (150, 150),\n",
    "    batch_size = BS,\n",
    "    class_mode = 'sparse',\n",
    "    seed = 1,\n",
    "    color_mode = 'rgb',\n",
    "    shuffle=True)\n",
    "\n",
    "validation_generator = train_datagen.flow_from_directory(\n",
    "    'C:/Users/rafid/OneDrive/Desktop/VSCode/Python/Image Classification/Datasets/Intel Image Classification/seg_train/seg_train/',\n",
    "    subset = 'validation',\n",
    "    target_size = (150, 150),\n",
    "    batch_size = BS,\n",
    "    class_mode = 'sparse',\n",
    "    seed = 1,\n",
    "    color_mode = 'rgb',\n",
    "    shuffle=True)\n",
    "\n",
    "test_datagen = ImageDataGenerator(rescale = 1./255)\n",
    "\n",
    "test_generator = test_datagen.flow_from_directory(\n",
    "    'C:/Users/rafid/OneDrive/Desktop/VSCode/Python/Image Classification/Datasets/Intel Image Classification/seg_test/seg_test/',\n",
    "    target_size = (150, 150),\n",
    "    batch_size = BS,\n",
    "    class_mode = 'sparse',\n",
    "    seed = 1,\n",
    "    color_mode = 'rgb',\n",
    "    shuffle = True)"
   ]
  },
  {
   "cell_type": "code",
   "execution_count": null,
   "id": "4f6f18f3-7a9a-465a-8dcc-4c29fd4c3fa8",
   "metadata": {},
   "outputs": [],
   "source": [
    "from tensorflow.keras.models import Sequential\n",
    "from tensorflow.keras.layers import Conv2D, MaxPooling2D, Flatten, Dense, Dropout, BatchNormalization\n",
    "from tensorflow.keras.optimizers import Adam\n",
    "\n",
    "model = Sequential()\n",
    "\n",
    "model.add(Conv2D(16, (3, 3), activation='relu', input_shape=(150, 150, 3)))\n",
    "model.add(BatchNormalization())\n",
    "model.add(MaxPooling2D(pool_size=(2, 2)))\n",
    "\n",
    "model.add(Conv2D(32, (3, 3), activation='relu'))\n",
    "model.add(BatchNormalization())\n",
    "model.add(MaxPooling2D(pool_size=(2, 2)))\n",
    "\n",
    "model.add(Conv2D(64, (3, 3), activation='relu'))\n",
    "model.add(BatchNormalization())\n",
    "model.add(MaxPooling2D(pool_size=(2, 2)))\n",
    "\n",
    "model.add(Conv2D(128, (3, 3), activation='relu'))\n",
    "model.add(BatchNormalization())\n",
    "model.add(MaxPooling2D(pool_size=(2, 2)))\n",
    "\n",
    "model.add(Conv2D(256, (3, 3), activation='relu'))\n",
    "model.add(BatchNormalization())\n",
    "model.add(MaxPooling2D(pool_size=(2, 2)))\n",
    "\n",
    "model.add(Flatten())\n",
    "\n",
    "model.add(Dense(256, activation='relu'))\n",
    "model.add(BatchNormalization())\n",
    "model.add(Dropout(DROPOUT_RATE))\n",
    "\n",
    "model.add(Dense(128, activation='relu'))\n",
    "model.add(BatchNormalization())\n",
    "model.add(Dropout(DROPOUT_RATE))\n",
    "\n",
    "model.add(Dense(64, activation='relu'))\n",
    "model.add(BatchNormalization())\n",
    "model.add(Dropout(DROPOUT_RATE))\n",
    "\n",
    "model.add(Dense(32, activation='relu'))\n",
    "model.add(BatchNormalization())\n",
    "model.add(Dropout(DROPOUT_RATE))\n",
    "\n",
    "model.add(Dense(16, activation='relu'))\n",
    "model.add(BatchNormalization())\n",
    "model.add(Dropout(DROPOUT_RATE))\n",
    "\n",
    "model.add(Dense(6, activation='softmax'))\n",
    "\n",
    "rlrop = tf.keras.callbacks.ReduceLROnPlateau(monitor='val_accuracy', mode='max', factor=0.5, patience=20, min_lr= 0.00001, verbose=1)\n",
    "\n",
    "early_stop = tf.keras.callbacks.EarlyStopping(monitor='val_loss', mode='min', min_delta=0, patience=20, restore_best_weights=True, verbose=2)\n",
    "\n",
    "callbacks_list = [rlrop, early_stop]\n",
    "\n",
    "model.compile(optimizer=Adam(), loss='sparse_categorical_crossentropy', metrics=['accuracy'])\n",
    "\n",
    "model.summary()"
   ]
  },
  {
   "cell_type": "code",
   "execution_count": null,
   "id": "03b0041b-3675-42c9-b9f9-17521bcc21af",
   "metadata": {},
   "outputs": [],
   "source": [
    "history = model.fit(\n",
    "    x = train_generator,\n",
    "    validation_data = validation_generator,\n",
    "    shuffle = True,\n",
    "    epochs = EPOCHS,\n",
    "    steps_per_epoch = 12632//BS,\n",
    "    validation_steps =  1402//BS,\n",
    "    callbacks = callbacks_list,\n",
    ")"
   ]
  },
  {
   "cell_type": "code",
   "execution_count": null,
   "id": "a3f813e5-e92a-41dd-86cf-d968139029e4",
   "metadata": {},
   "outputs": [],
   "source": []
  }
 ],
 "metadata": {
  "kernelspec": {
   "display_name": "Python 3 (ipykernel)",
   "language": "python",
   "name": "python3"
  },
  "language_info": {
   "codemirror_mode": {
    "name": "ipython",
    "version": 3
   },
   "file_extension": ".py",
   "mimetype": "text/x-python",
   "name": "python",
   "nbconvert_exporter": "python",
   "pygments_lexer": "ipython3",
   "version": "3.12.7"
  }
 },
 "nbformat": 4,
 "nbformat_minor": 5
}
